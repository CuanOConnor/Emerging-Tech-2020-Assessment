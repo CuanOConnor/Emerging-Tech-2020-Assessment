{
 "cells": [
  {
   "cell_type": "markdown",
   "metadata": {},
   "source": [
    "# Tasks "
   ]
  },
  {
   "cell_type": "markdown",
   "metadata": {},
   "source": [
    "These are my solutions to the Tasks assessment. The author is Cuan O'Connor ( G00300230@gmit.ie ).\n",
    "\n",
    "***"
   ]
  },
  {
   "cell_type": "markdown",
   "metadata": {},
   "source": [
    "### Task: Calculate a square root\n",
    "***\n",
    "\n",
    "We can calculate the square root of a number using Newtons Method [1,2].\n",
    "\n",
    "To find the square root $z$ of a number $x$, we can iterate using the following equation. \n",
    "\n",
    "$$ z = z - \\frac{z^2 - x}{2z} $$\n",
    "\n",
    "\n",
    "[1] A Tour Of Go; Exercise: Loops and Functions; https://tour.golang.org/flowcontrol/8\n",
    "\n",
    "[2] Wikipedia; Square root of 2; https://en.wikipedia.org/wiki/Square_root_of_2"
   ]
  },
  {
   "cell_type": "code",
   "execution_count": 18,
   "metadata": {},
   "outputs": [],
   "source": [
    "# \n",
    "def sqrt2(x):\n",
    "    \"\"\"\n",
    "    A function to calculate the square root of a number x.\n",
    "    x is used for testing and flexibility, but the goal is specifically the sqrt of 2.\n",
    "    \"\"\"\n",
    "    # Initial guess for the square root z.\n",
    "    z = x / 2\n",
    "    # Loop until we're happy with the accuracy.\n",
    "    while abs(x - (z * z)) > 0.00000001:\n",
    "        # calculate a better guess for the square root.\n",
    "        z -= (z * z - x) / (2 * z)\n",
    "    # return the (approximate) square root of x.\n",
    "    return z"
   ]
  },
  {
   "cell_type": "markdown",
   "metadata": {},
   "source": [
    "### Tests of the function\n",
    "\n",
    "Here we test the function with some known values\n",
    "\n",
    "Includes our main goal of the sqrt of 2"
   ]
  },
  {
   "cell_type": "code",
   "execution_count": 19,
   "metadata": {},
   "outputs": [
    {
     "data": {
      "text/plain": [
       "10.000000000107446"
      ]
     },
     "execution_count": 19,
     "metadata": {},
     "output_type": "execute_result"
    }
   ],
   "source": [
    "# Test the function on 100.\n",
    "sqrt2(100)"
   ]
  },
  {
   "cell_type": "code",
   "execution_count": 20,
   "metadata": {},
   "outputs": [
    {
     "name": "stdout",
     "output_type": "stream",
     "text": [
      "1.4142135623746898698271934335934929549694061279296875000000000000000000000000000000000000000000000000\n"
     ]
    }
   ],
   "source": [
    "# Test the function on 2.\n",
    "# Uses a simple output modifier to display to the 100th decimal place (included because specified in the assessment tasks)\n",
    "result = sqrt2(2)\n",
    "print(\"%.100f\" % result)"
   ]
  },
  {
   "cell_type": "code",
   "execution_count": 21,
   "metadata": {},
   "outputs": [
    {
     "name": "stdout",
     "output_type": "stream",
     "text": [
      "1.4142135623730951454746218587388284504413604736328125000000000000000000000000000000000000000000000000\n"
     ]
    }
   ],
   "source": [
    "import math\n",
    "\n",
    "result2 = math.sqrt(2)\n",
    "print(\"%.100f\" % result2)"
   ]
  },
  {
   "cell_type": "markdown",
   "metadata": {},
   "source": [
    "### Task 2: Verifying a Chi-Squared Value Using scipy.stats\n",
    "***"
   ]
  },
  {
   "cell_type": "markdown",
   "metadata": {},
   "source": [
    "The Chi-squared value has been provided: 24.6. \n",
    "\n",
    "The goal is to verify that this is correct using scipy.stats and calculate the associated *p* value.\n",
    "\n",
    "Using an example found online [1] I was able to decide on a design using a simple array object called dataSet. However the example given shows the use of the panda libraries and in order to keep within the rules of the assessment I decided against using it.\n",
    "\n",
    "With the scipy.stats we can make use of a powerful function called *chi2_contingency* [2]. Using this we can get actionable data from our dataset, which will be hard coded into the application for simplicity.\n",
    "\n",
    "Chi2_contingency takes in the dataSet object and displays the types of data provided before the **=**.\n",
    "\n",
    "- Chi2 is our Chi-Squared value\n",
    "- p is the p-value of the test\n",
    "- dof is the degrees of free in the data\n",
    "- exp is the expected frequencies of the data set\n"
   ]
  },
  {
   "cell_type": "code",
   "execution_count": 25,
   "metadata": {},
   "outputs": [],
   "source": [
    "import scipy.stats as stats\n",
    "\n",
    "# First we get our given data set \n",
    "dataSet = [[90,60,104,95],[30,50,51,20],[30,40,45,35]]\n",
    "\n",
    "# using the built-in function from scipy we can perform actions on our data set\n",
    "# chi2 is our Chi-squared value\n",
    "# p is the p-value of the test\n",
    "# dof is the degrees of freedom in the data\n",
    "# exp is the expect frequencies\n",
    "chi2,p,dof,exp = stats.chi2_contingency(dataSet)"
   ]
  },
  {
   "cell_type": "code",
   "execution_count": 26,
   "metadata": {},
   "outputs": [
    {
     "name": "stdout",
     "output_type": "stream",
     "text": [
      "Actual Chi-Squared Value:  24.5712028585826\n",
      "The p-value:  0.0004098425861096696\n"
     ]
    }
   ],
   "source": [
    "print(\"Actual Chi-Squared Value: \", chi2) \n",
    "print(\"The p-value: \", p)"
   ]
  },
  {
   "cell_type": "markdown",
   "metadata": {},
   "source": [
    "[1] chi2_example; Another example using panda; https://pythonhealthcare.org/2018/04/13/58-statistics-chi-squared-test/\n",
    "\n",
    "[2] chi2_contigency; An example and clear explanation of how the chi2_contingency works; https://docs.scipy.org/doc/scipy/reference/generated/scipy.stats.chi2_contingency.html"
   ]
  }
 ],
 "metadata": {
  "kernelspec": {
   "display_name": "Python 3",
   "language": "python",
   "name": "python3"
  },
  "language_info": {
   "codemirror_mode": {
    "name": "ipython",
    "version": 3
   },
   "file_extension": ".py",
   "mimetype": "text/x-python",
   "name": "python",
   "nbconvert_exporter": "python",
   "pygments_lexer": "ipython3",
   "version": "3.8.3"
  }
 },
 "nbformat": 4,
 "nbformat_minor": 4
}
