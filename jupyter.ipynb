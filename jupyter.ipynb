{
 "cells": [
  {
   "cell_type": "markdown",
   "metadata": {},
   "source": [
    "# Tasks "
   ]
  },
  {
   "cell_type": "markdown",
   "metadata": {},
   "source": [
    "These are my solutions to the Tasks assessment. The author is Cuan O'Connor ( G00300230@gmit.ie ).\n",
    "\n",
    "***"
   ]
  },
  {
   "cell_type": "markdown",
   "metadata": {},
   "source": [
    "### Task: Calculate a square root\n",
    "***\n",
    "\n",
    "We can calculate the square root of a number using Newtons Method [1,2].\n",
    "\n",
    "To find the square root $z$ of a number $x$, we can iterate using the following equation. \n",
    "\n",
    "$$ z = z - \\frac{z^2 - x}{2z} $$\n",
    "\n",
    "\n",
    "[1] A Tour Of Go; Exercise: Loops and Functions; https://tour.golang.org/flowcontrol/8\n",
    "\n",
    "[2] Wikipedia; Square root of 2; https://en.wikipedia.org/wiki/Square_root_of_2"
   ]
  },
  {
   "cell_type": "code",
   "execution_count": 18,
   "metadata": {},
   "outputs": [],
   "source": [
    "# \n",
    "def sqrt2(x):\n",
    "    \"\"\"\n",
    "    A function to calculate the square root of a number x.\n",
    "    x is used for testing and flexibility, but the goal is specifically the sqrt of 2.\n",
    "    \"\"\"\n",
    "    # Initial guess for the square root z.\n",
    "    z = x / 2\n",
    "    # Loop until we're happy with the accuracy.\n",
    "    while abs(x - (z * z)) > 0.00000001:\n",
    "        # calculate a better guess for the square root.\n",
    "        z -= (z * z - x) / (2 * z)\n",
    "    # return the (approximate) square root of x.\n",
    "    return z"
   ]
  },
  {
   "cell_type": "markdown",
   "metadata": {},
   "source": [
    "### Tests of the function\n",
    "\n",
    "Here we test the function with some known values\n",
    "\n",
    "Includes our main goal of the sqrt of 2"
   ]
  },
  {
   "cell_type": "code",
   "execution_count": 19,
   "metadata": {},
   "outputs": [
    {
     "data": {
      "text/plain": [
       "10.000000000107446"
      ]
     },
     "execution_count": 19,
     "metadata": {},
     "output_type": "execute_result"
    }
   ],
   "source": [
    "# Test the function on 100.\n",
    "sqrt2(100)"
   ]
  },
  {
   "cell_type": "code",
   "execution_count": 20,
   "metadata": {},
   "outputs": [
    {
     "name": "stdout",
     "output_type": "stream",
     "text": [
      "1.4142135623746898698271934335934929549694061279296875000000000000000000000000000000000000000000000000\n"
     ]
    }
   ],
   "source": [
    "# Test the function on 2.\n",
    "# Uses a simple output modifier to display to the 100th decimal place (included because specified in the assessment tasks)\n",
    "result = sqrt2(2)\n",
    "print(\"%.100f\" % result)"
   ]
  },
  {
   "cell_type": "code",
   "execution_count": 21,
   "metadata": {},
   "outputs": [
    {
     "name": "stdout",
     "output_type": "stream",
     "text": [
      "1.4142135623730951454746218587388284504413604736328125000000000000000000000000000000000000000000000000\n"
     ]
    }
   ],
   "source": [
    "import math\n",
    "\n",
    "result2 = math.sqrt(2)\n",
    "print(\"%.100f\" % result2)"
   ]
  },
  {
   "cell_type": "markdown",
   "metadata": {},
   "source": [
    "### Task 2: Verifying a Chi-Squared Value Using scipy.stats\n",
    "***"
   ]
  },
  {
   "cell_type": "markdown",
   "metadata": {},
   "source": [
    "The Chi-squared value has been provided: 24.6. \n",
    "\n",
    "The goal is to verify that this is correct using scipy.stats and calculate the associated *p* value.\n",
    "\n",
    "Using an example found online [1] I was able to decide on a design using a simple array object called dataSet. However the example given shows the use of the panda libraries and in order to keep within the rules of the assessment I decided against using it.\n",
    "\n",
    "With the scipy.stats we can make use of a powerful function called *chi2_contingency* [2]. Using this we can get actionable data from our dataset, which will be hard coded into the application for simplicity.\n",
    "\n",
    "Chi2_contingency takes in the dataSet object and displays the types of data provided before the **=**.\n",
    "\n",
    "- Chi2 is our Chi-Squared value\n",
    "- p is the p-value of the test\n",
    "- dof is the degrees of free in the data\n",
    "- exp is the expected frequencies of the data set\n"
   ]
  },
  {
   "cell_type": "code",
   "execution_count": 25,
   "metadata": {},
   "outputs": [],
   "source": [
    "import scipy.stats as stats\n",
    "\n",
    "# First we get our given data set \n",
    "dataSet = [[90,60,104,95],[30,50,51,20],[30,40,45,35]]\n",
    "\n",
    "# using the built-in function from scipy we can perform actions on our data set\n",
    "# chi2 is our Chi-squared value\n",
    "# p is the p-value of the test\n",
    "# dof is the degrees of freedom in the data\n",
    "# exp is the expect frequencies\n",
    "chi2,p,dof,exp = stats.chi2_contingency(dataSet)"
   ]
  },
  {
   "cell_type": "code",
   "execution_count": 26,
   "metadata": {},
   "outputs": [
    {
     "name": "stdout",
     "output_type": "stream",
     "text": [
      "Actual Chi-Squared Value:  24.5712028585826\n",
      "The p-value:  0.0004098425861096696\n"
     ]
    }
   ],
   "source": [
    "print(\"Actual Chi-Squared Value: \", chi2) \n",
    "print(\"The p-value: \", p)"
   ]
  },
  {
   "cell_type": "markdown",
   "metadata": {},
   "source": [
    "[1] chi2_example; Another example using panda; https://pythonhealthcare.org/2018/04/13/58-statistics-chi-squared-test/\n",
    "\n",
    "[2] chi2_contigency; An example and clear explanation of how the chi2_contingency works; https://docs.scipy.org/doc/scipy/reference/generated/scipy.stats.chi2_contingency.html"
   ]
  },
  {
   "cell_type": "markdown",
   "metadata": {},
   "source": [
    "### Task 3: STDDEV and Population vs Sample Data\n",
    "***"
   ]
  },
  {
   "cell_type": "markdown",
   "metadata": {},
   "source": [
    "The goal of this task is to decide or prove that getting the Standard deviation on a **sample** sized data set is superior to performing it on a **population** sized set. Then prove this using **numpy** to perform a simulation of this in action.\n",
    "\n",
    "A **population** data set contains all members of a specified group or the entire list of possible data values.\n",
    "\n",
    "A **sample data** set contains a part, or a subset of a population.\n",
    "\n",
    "The **Standard Deviation** [1] is a statistic that measures the dispersion of a dataset relative to its mean and is calculated as the square root of the variance.\n",
    "\n",
    "Both have their merrits when it comes to performing analysis on their data sets, however there are pros and cons to both.\n",
    "\n",
    "**Population should be used when:**\n",
    " - You can easily measure the entire population.\n",
    " \n",
    "**Sample should be used when:**\n",
    " - You have a sample of the larger population and only wish to measure this sample\n",
    " - The population data set is harder to quantify e.g. The number of people who speak spanish in Ireland.\n",
    " \n",
    "Measuring an entire population is, more often than not, difficult to obtain the full accurate data on, therefor a sample data set should be used.\n",
    "\n",
    "The numpy function for calculating standard deviation is: \n",
    "```python\n",
    "np.sqrt(np.sum((x - np.mean(x))**2)/len(x))\n",
    "```\n",
    "\n",
    "In the example I have set up below, I use the same action twice. However, in the option parameters I have included the ddof.\n",
    " - The ddof is the [5] Delta Degrees of Freedom. The divisor used in calculations is N - ddof, where N represents the number of elements. By default ddof is zero.\n",
    " \n",
    "The difference between the two values is apparent although quite small.\n",
    "The idea is that if these functions were applied to a massive dataset, it may well be impossible to obtain the Population stddev because of the potential size. However if we were to perform the action on a sample of the population, it could potentially be much more manageable and accurate.\n",
    "\n",
    "### Example:"
   ]
  },
  {
   "cell_type": "code",
   "execution_count": 12,
   "metadata": {},
   "outputs": [
    {
     "name": "stdout",
     "output_type": "stream",
     "text": [
      "Population:  0.9722182539601555\n",
      "Sample:  1.0154488483603512\n"
     ]
    }
   ],
   "source": [
    "import numpy as np\n",
    "\n",
    "# Hard coded sample data for the sake of simplicity.\n",
    "sampleData = [[3,3.5,2.5,3.2],[0,2.1,4,2.9],[3,2,2.6,3.3]] \n",
    "\n",
    "\"\"\"\n",
    "By setting the ddof to a number you basically perform an n - ddof on the function.\n",
    "In doing this we see the difference between:\n",
    "(The first option) population \n",
    "and \n",
    "(The second option) sample.\n",
    "\"\"\"\n",
    "print(\"Population: \", np.std(sampleData, ddof = 0))\n",
    "print(\"Sample: \", np.std(sampleData, ddof = 1))"
   ]
  },
  {
   "cell_type": "markdown",
   "metadata": {},
   "source": [
    "[1] Defining standard deviation; https://www.investopedia.com/terms/s/standarddeviation.asp\n",
    "\n",
    "[2] A clear distinction between population and sample data with examples; https://mathbitsnotebook.com/Algebra1/StatisticsData/STPopSample.html#:~:text=A%20population%20data%20set%20contains,list%20of%20possible%20data%20values.&text=A%20sample%20data%20set%20contains,from%20which%20it%20is%20taken.\n",
    "\n",
    "[3] Information on collecting data from population and sample data sets; https://www.scribbr.com/methodology/population-vs-sample/\n",
    "\n",
    "[4] Population vs Sample data but with Standard deviation in mind; https://www.thoughtco.com/population-vs-sample-standard-deviations-3126372#:~:text=The%20population%20standard%20deviation%20is,the%20individuals%20in%20a%20population.\n",
    "\n",
    "[5] NumPy docs; This doc shows the operations of numpy.std and the parameters that can be used to alter the values; https://numpy.org/doc/stable/reference/generated/numpy.std.html#:~:text=The%20standard%20deviation%20is%20the,N%20%3D%20len(x)%20."
   ]
  }
 ],
 "metadata": {
  "kernelspec": {
   "display_name": "Python 3",
   "language": "python",
   "name": "python3"
  },
  "language_info": {
   "codemirror_mode": {
    "name": "ipython",
    "version": 3
   },
   "file_extension": ".py",
   "mimetype": "text/x-python",
   "name": "python",
   "nbconvert_exporter": "python",
   "pygments_lexer": "ipython3",
   "version": "3.8.3"
  }
 },
 "nbformat": 4,
 "nbformat_minor": 4
}
